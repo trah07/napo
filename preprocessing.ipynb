{
 "cells": [
  {
   "cell_type": "markdown",
   "metadata": {},
   "source": [
    "## PŘÍPRAVA DAT (PREPROCESSING)"
   ]
  },
  {
   "cell_type": "code",
   "execution_count": 2,
   "metadata": {},
   "outputs": [
    {
     "name": "stdout",
     "output_type": "stream",
     "text": [
      "  id_respondenta pohlavi vek vekova_kategorie  \\\n",
      "0    025y2-0ce-1    zena  39        35-44_let   \n",
      "1    032y2-0ce-1    zena  42        35-44_let   \n",
      "2    04gy2-0ce-1     muz  60        55-64_let   \n",
      "3    05l03-0ce-1    zena  56        55-64_let   \n",
      "4    06vx2-0ce-1     muz  73    65_a_vice_let   \n",
      "\n",
      "                   nejvyssi_dokoncene_vzdelani  vzdelani_\\n(rekod)  \\\n",
      "0      vyssi_odborne,_vysokoskolske_bakalarske              vs/vos   \n",
      "1  stredoskolske_s_maturitou_(vcetne_nastavby)      ss_s_maturitou   \n",
      "2            vysokoskolske_magisterske_a_vyssi              vs/vos   \n",
      "3                       vyucen(a)_bez_maturity  zs/ss_bez_maturity   \n",
      "4  stredoskolske_s_maturitou_(vcetne_nastavby)      ss_s_maturitou   \n",
      "\n",
      "               kraj jakou_znamkou_byste_ohodnotil(a)_ceske_zdravotnictvi?  \\\n",
      "0  stredocesky_kraj                                                  2      \n",
      "1  stredocesky_kraj                                                  3      \n",
      "2      ustecky_kraj                                                  3      \n",
      "3  stredocesky_kraj                                                  2      \n",
      "4             praha                                                  2      \n",
      "\n",
      "               co_na_ceskem_zdravotnictvi_ocenujete?  \\\n",
      "0                                         preciznost   \n",
      "1                                 kvalitni_odborniky   \n",
      "2                                         dostupnost   \n",
      "3     mame_hodne_vybornych_lekaru,_kvalitni_vybaveni   \n",
      "4  ze_ma_mnoho_lekaru,_sester_a_dalsich_pracovnik...   \n",
      "\n",
      "  co_byste_si_naopak_pral(a)_na_ceskem_zdravotnictvi_vylepsit?_  ...  \\\n",
      "0                           kratsi_objednaci_terminy             ...   \n",
      "1                                    dostupnost_pece             ...   \n",
      "2                                             sluzby             ...   \n",
      "3           zkratit_cekaci_doby_na_odborna_vysetreni             ...   \n",
      "4  moznost_vyberu_obvodniho_lekare_z_vetsi_nabidk...             ...   \n",
      "\n",
      "  politickereseni_prodlouzeni_cekaci_doby_na_neakutni_vysetreni_a_osetreni  \\\n",
      "0                                 zcela_neprijatelne                         \n",
      "1                                   spise_prijatelne                         \n",
      "2                                 spise_neprijatelne                         \n",
      "3                                 spise_neprijatelne                         \n",
      "4                                 zcela_neprijatelne                         \n",
      "\n",
      "  politickereseni_mene_husta_sit_ordinaci_a_nemocnic_a_vetsi_vzdalenost_dojizdeni  \\\n",
      "0                                   spise_prijatelne                                \n",
      "1                                 spise_neprijatelne                                \n",
      "2                                 spise_neprijatelne                                \n",
      "3                                 spise_neprijatelne                                \n",
      "4                                 spise_neprijatelne                                \n",
      "\n",
      "  politickereseni_moznost_vyberu_mezi_ruznymi_nabidkami_zdravotnich_pojistoven_za_ruzne_nastavene_pojistne  \\\n",
      "0                                 spise_neprijatelne                                                         \n",
      "1                                   spise_prijatelne                                                         \n",
      "2                                 spise_neprijatelne                                                         \n",
      "3                                   spise_prijatelne                                                         \n",
      "4                                   spise_prijatelne                                                         \n",
      "\n",
      "  politickereseni_financne_by_melo_byt_zvyhodneno_chovani_ohleduplne_k_vlastnimu_zdravi  \\\n",
      "0                                   spise_prijatelne                                      \n",
      "1                                   zcela_prijatelne                                      \n",
      "2                                 spise_neprijatelne                                      \n",
      "3                                 spise_neprijatelne                                      \n",
      "4                                   spise_prijatelne                                      \n",
      "\n",
      "  lecite_se_dlouhodobe_s_nejakym_onemocnenim?_  \\\n",
      "0                                          ano   \n",
      "1                                           ne   \n",
      "2                                          ano   \n",
      "3                                          ano   \n",
      "4                                          ano   \n",
      "\n",
      "  pecujete_o_blizkou_osobu_s_chronickym_onemocnenim?  \\\n",
      "0                                                 ne   \n",
      "1                                                ano   \n",
      "2                                                 ne   \n",
      "3                                                 ne   \n",
      "4                                                 ne   \n",
      "\n",
      "            volbastrany_odpoved jake_je_vase_ekonomicke_postaveni?  \\\n",
      "0  stacilo!_(kscm,_sd-sn,_csns)          soukromy/a_podnikatel(ka)   \n",
      "1            nevim/nechci_uvest            v_zamestnaneckem_pomeru   \n",
      "2  stacilo!_(kscm,_sd-sn,_csns)            v_zamestnaneckem_pomeru   \n",
      "3                           ano          nepracujici_duchodce/kyne   \n",
      "4                        pirati          nepracujici_duchodce/kyne   \n",
      "\n",
      "  jaky_je_cisty_mesicni_prijem_vasi_domacnosti? neprojekcni_vaha_  \n",
      "0                         50_000_kc_-_74_999_kc      1.0290260572  \n",
      "1                         20_000_kc_-_49_999_kc      0.9935797558  \n",
      "2                             odmitam_odpovedet      1.0740696046  \n",
      "3                                  do_19_999_kc       0.968156977  \n",
      "4                         50_000_kc_-_74_999_kc      0.9648801832  \n",
      "\n",
      "[5 rows x 89 columns]\n",
      "Předzpracovaná data byla uložena do 'NAPO_VSE_preprocessed.xlsx'\n"
     ]
    }
   ],
   "source": [
    "import pandas as pd\n",
    "from unidecode import unidecode\n",
    "from sklearn.preprocessing import StandardScaler\n",
    "import unicodedata\n",
    "import re\n",
    "\n",
    "# Funkce pro odstranění diakritiky\n",
    "def remove_diacritics(text):\n",
    "    return unidecode(text)\n",
    "\n",
    "# Funkce pro úpravu názvů sloupců\n",
    "def fix_column_names(df):\n",
    "    df.columns = [unidecode(col).replace(' ', '_').lower() for col in df.columns]\n",
    "    return df\n",
    "\n",
    "# Načtení datového souboru\n",
    "file_path = 'NAPO_VSE_oprava.xlsx'\n",
    "df = pd.read_excel(file_path, sheet_name='Labels')\n",
    "\n",
    "# Úprava názvů sloupců\n",
    "df = fix_column_names(df)\n",
    "\n",
    "# Převedení numerických hodnot na int a float\n",
    "df = df.convert_dtypes()\n",
    "\n",
    "# Funkce pro normalizaci textu v buňkách\n",
    "def normalize_text(text):\n",
    "    if pd.isna(text):\n",
    "        return text\n",
    "    # Odstranění diakritiky, převod na malá písmena, nahrazení whitespace za \"_\"\n",
    "    text = ''.join(c for c in unicodedata.normalize('NFD', str(text)) if unicodedata.category(c) != 'Mn')\n",
    "    text = text.replace(' ', '_').lower()\n",
    "    return text\n",
    "\n",
    "# Aplikace normalizace textu na všechny buňky v DataFrame\n",
    "df = df.applymap(normalize_text)\n",
    "\n",
    "# Zobrazení prvních několika řádků pro ověření\n",
    "print(df.head())\n",
    "\n",
    "# Úložení předzpracovaných dat do nového excelu\n",
    "df.to_excel('NAPO_VSE_preprocessed.xlsx', index=False)\n",
    "\n",
    "print(\"Předzpracovaná data byla uložena do 'NAPO_VSE_preprocessed.xlsx'\")"
   ]
  },
  {
   "cell_type": "markdown",
   "metadata": {},
   "source": [
    "### Kategorizace otázky Jaký je čistý měsíční příjem Vaší domácnosti?"
   ]
  },
  {
   "cell_type": "code",
   "execution_count": 3,
   "metadata": {},
   "outputs": [
    {
     "name": "stdout",
     "output_type": "stream",
     "text": [
      "  jaky_je_cisty_mesicni_prijem_vasi_domacnosti? prijem_kategorie\n",
      "0                         50_000_kc_-_74_999_kc   stredni_prijem\n",
      "1                         20_000_kc_-_49_999_kc   stredni_prijem\n",
      "2                             odmitam_odpovedet         neurceno\n",
      "3                                  do_19_999_kc     nizky_prijem\n",
      "4                         50_000_kc_-_74_999_kc   stredni_prijem\n"
     ]
    }
   ],
   "source": [
    "# Funkce pro kategorizaci příjmu\n",
    "def categorize_income(income):\n",
    "    if income in ['do_19_999_kc']:\n",
    "        return 'nizky_prijem'\n",
    "    elif income in ['20_000_kc_-_49_999_kc', '50_000_kc_-_74_999_kc']:\n",
    "        return 'stredni_prijem'\n",
    "    elif income in ['75_000_kc_-_99_999_kc', '100_000_kc_-_149_000_kc', '150_000_kc_a_vice']:\n",
    "        return 'vysoky_prijem'\n",
    "    elif income in ['odmitam_odpovedet', 'nevim']:\n",
    "        return 'neurceno'\n",
    "    else:\n",
    "        return 'n'\n",
    "\n",
    "# Aplikace funkce na sloupec a vytvoření nové kategorie\n",
    "df['prijem_kategorie'] = df['jaky_je_cisty_mesicni_prijem_vasi_domacnosti?'].apply(categorize_income)\n",
    "\n",
    "# Zobrazení prvních několika řádků pro ověření\n",
    "print(df[['jaky_je_cisty_mesicni_prijem_vasi_domacnosti?', 'prijem_kategorie']].head())\n"
   ]
  },
  {
   "cell_type": "markdown",
   "metadata": {},
   "source": [
    "### Oprava odpovědí k otázce Jakou známkou byste ohodnotil/a české zdravotnictví?"
   ]
  },
  {
   "cell_type": "code",
   "execution_count": 4,
   "metadata": {},
   "outputs": [
    {
     "name": "stdout",
     "output_type": "stream",
     "text": [
      "Data s opravou hodnocení byla uložena do 'NAPO_VSE_preprocessed.xlsx'\n"
     ]
    }
   ],
   "source": [
    "# Funkce pro převod textových hodnot hodnocení na integer podle první číslice\n",
    "def convert_rating_to_int(value):\n",
    "    if pd.isna(value):\n",
    "        return value\n",
    "    match = re.match(r'(\\d)_', value)\n",
    "    if match:\n",
    "        return int(match.group(1))\n",
    "    else:\n",
    "        try:\n",
    "            return int(value)\n",
    "        except ValueError:\n",
    "            return pd.NA\n",
    "\n",
    "# Seznam sloupců pro konverzi\n",
    "columns_to_convert = [\n",
    "    'jakou_znamkou_byste_ohodnotil(a)_ceske_zdravotnictvi?',\n",
    "    'hodnoceni_zdravotni_pojistovny',\n",
    "    'hodnoceni_zdravotnicka_zarizeni_/_lekari',\n",
    "    'hodnoceni_ministerstvo_zdravotnictvi',\n",
    "    'hodnoceni_nemocnice', \n",
    "    'hodnoceni_prakticky_lekar',\n",
    "    'hodnoceni_ambulantni_specialiste'\n",
    "]\n",
    "\n",
    "# Aplikace konverze na vybrané sloupce\n",
    "for col in columns_to_convert:\n",
    "    df[col] = df[col].apply(convert_rating_to_int)\n",
    "\n",
    "# Převedení numerických hodnot na int a float\n",
    "df = df.convert_dtypes()\n",
    "\n",
    "# Uložení upravených dat do nového Excel souboru\n",
    "df.to_excel('NAPO_VSE_preprocessed.xlsx', index=False)\n",
    "\n",
    "print(\"Data s opravou hodnocení byla uložena do 'NAPO_VSE_preprocessed.xlsx'\")"
   ]
  },
  {
   "cell_type": "markdown",
   "metadata": {},
   "source": [
    "### Textová analýza (NLP) otázky Co na českém zdravotnictví oceňujete? pomocí Stanza"
   ]
  },
  {
   "cell_type": "code",
   "execution_count": 14,
   "metadata": {},
   "outputs": [
    {
     "name": "stderr",
     "output_type": "stream",
     "text": [
      "[nltk_data] Downloading package punkt to C:\\Users\\Hoang\n",
      "[nltk_data]     Anh\\AppData\\Roaming\\nltk_data...\n",
      "[nltk_data]   Package punkt is already up-to-date!\n"
     ]
    },
    {
     "data": {
      "application/vnd.jupyter.widget-view+json": {
       "model_id": "06c2dce0f649484b8c4bfa21c7184ced",
       "version_major": 2,
       "version_minor": 0
      },
      "text/plain": [
       "Downloading https://raw.githubusercontent.com/stanfordnlp/stanza-resources/main/resources_1.8.0.json:   0%|   …"
      ]
     },
     "metadata": {},
     "output_type": "display_data"
    },
    {
     "name": "stderr",
     "output_type": "stream",
     "text": [
      "2024-11-02 17:19:32 INFO: Downloaded file to C:\\Users\\Hoang Anh\\stanza_resources\\resources.json\n",
      "2024-11-02 17:19:32 INFO: Downloading default packages for language: cs (Czech) ...\n",
      "2024-11-02 17:19:33 INFO: File exists: C:\\Users\\Hoang Anh\\stanza_resources\\cs\\default.zip\n",
      "2024-11-02 17:19:34 INFO: Finished downloading models and saved to C:\\Users\\Hoang Anh\\stanza_resources\n",
      "2024-11-02 17:19:34 INFO: Checking for updates to resources.json in case models have been updated.  Note: this behavior can be turned off with download_method=None or download_method=DownloadMethod.REUSE_RESOURCES\n"
     ]
    },
    {
     "data": {
      "application/vnd.jupyter.widget-view+json": {
       "model_id": "c7de5d9e92f24ba1a53fa928ba3f0b7f",
       "version_major": 2,
       "version_minor": 0
      },
      "text/plain": [
       "Downloading https://raw.githubusercontent.com/stanfordnlp/stanza-resources/main/resources_1.8.0.json:   0%|   …"
      ]
     },
     "metadata": {},
     "output_type": "display_data"
    },
    {
     "name": "stderr",
     "output_type": "stream",
     "text": [
      "2024-11-02 17:19:35 INFO: Downloaded file to C:\\Users\\Hoang Anh\\stanza_resources\\resources.json\n",
      "2024-11-02 17:19:36 INFO: Loading these models for language: cs (Czech):\n",
      "============================\n",
      "| Processor | Package      |\n",
      "----------------------------\n",
      "| tokenize  | pdt          |\n",
      "| mwt       | pdt          |\n",
      "| pos       | pdt_nocharlm |\n",
      "| lemma     | pdt_nocharlm |\n",
      "| depparse  | pdt_nocharlm |\n",
      "============================\n",
      "\n",
      "2024-11-02 17:19:36 INFO: Using device: cpu\n",
      "2024-11-02 17:19:36 INFO: Loading: tokenize\n",
      "2024-11-02 17:19:36 INFO: Loading: mwt\n",
      "2024-11-02 17:19:36 INFO: Loading: pos\n",
      "2024-11-02 17:19:36 INFO: Loading: lemma\n",
      "2024-11-02 17:19:36 INFO: Loading: depparse\n",
      "2024-11-02 17:19:36 INFO: Done loading processors!\n"
     ]
    },
    {
     "name": "stdout",
     "output_type": "stream",
     "text": [
      "           category  frequency\n",
      "2        dostupnost        137\n",
      "7               nic        107\n",
      "23        odbornost         72\n",
      "6             nevim         68\n",
      "74             pece         61\n",
      "1           kvalita         54\n",
      "12           zdarma         50\n",
      "125          lekaru         38\n",
      "28        pojisteni         26\n",
      "37          pristup         24\n",
      "113          uroven         24\n",
      "73         kvalitni         22\n",
      "4            lekare         21\n",
      "26   profesionalita         20\n",
      "19          vsechno         20\n",
      "121          vysoka         19\n",
      "101           jeste         17\n",
      "181               i         16\n",
      "293            peci         16\n",
      "332            neni         16\n"
     ]
    },
    {
     "data": {
      "text/plain": [
       "<Figure size 1200x600 with 0 Axes>"
      ]
     },
     "metadata": {},
     "output_type": "display_data"
    },
    {
     "data": {
      "image/png": "[encoded data removed]",
      "text/plain": [
       "<Figure size 640x480 with 1 Axes>"
      ]
     },
     "metadata": {},
     "output_type": "display_data"
    },
    {
     "name": "stdout",
     "output_type": "stream",
     "text": [
      "Výsledky byly uloženy do souboru 'NAPO_VSE_nlp_updated.xlsx'.\n"
     ]
    }
   ],
   "source": [
    "import pandas as pd\n",
    "import unicodedata\n",
    "from collections import Counter\n",
    "import matplotlib.pyplot as plt\n",
    "import stanza\n",
    "import nltk\n",
    "\n",
    "# Stažení NLTK dat pro tokenizaci (je-li potřeba)\n",
    "nltk.download('punkt')\n",
    "from nltk.tokenize import word_tokenize\n",
    "\n",
    "# Načtení českých stop slov ze souboru\n",
    "stop_words_file_path = 'stop_words_czech.txt'\n",
    "with open(stop_words_file_path, 'r', encoding='utf-8') as file:\n",
    "    czech_stop_words = [line.strip() for line in file.readlines()]\n",
    "\n",
    "# Stažení a inicializace Stanza pipeline pro český jazyk\n",
    "stanza.download('cs')\n",
    "nlp = stanza.Pipeline('cs')\n",
    "\n",
    "# Rozšířený slovník synonym\n",
    "synonyms_dict = {\n",
    "    'kvalita': 'kvalita',\n",
    "    'kvalitu': 'kvalita',\n",
    "    'kvalitni_pece': 'kvalita',\n",
    "    'vysoka_odbornost': 'odbornost',\n",
    "    'odbornost': 'odbornost',\n",
    "    'odbornici': 'odbornost',\n",
    "    'odbornost_lekaru': 'odbornost',\n",
    "    'profesionalitu': 'odbornost',\n",
    "    'dostupnost': 'dostupnost',\n",
    "    'bezplatnost': 'zdarma',\n",
    "    'bezplatnou_peci': 'zdarma',\n",
    "    'ze_je_zdarma': 'zdarma',\n",
    "    'asi_nic': 'nic',\n",
    "    'nic_me_nenapada': 'nic',\n",
    "    'vse': 'vsechno',\n",
    "    'vubec_nic': 'nic',\n",
    "    'relativni_dostupnost': 'dostupnost',\n",
    "    'profesionalni': 'profesionalita',\n",
    "    'nektere_lekare': 'lekare',\n",
    "    'lekare': 'lekare',\n",
    "    'bez_poplatku': 'zdarma',\n",
    "    'rychlost': 'rychlost',\n",
    "    'pohodli': 'pohodli',\n",
    "    'vstricnost': 'vstricnost',\n",
    "    'ochota': 'ochota',\n",
    "    'pristup': 'pristup',\n",
    "    'spolehlivost': 'spolehlivost'\n",
    "}\n",
    "\n",
    "# Funkce pro odstranění diakritiky a nahrazení podtržítek\n",
    "def preprocess_text(text):\n",
    "    text = text.replace('_', ' ')\n",
    "    return ''.join(\n",
    "        c for c in unicodedata.normalize('NFKD', text)\n",
    "        if not unicodedata.combining(c)\n",
    "    )\n",
    "\n",
    "# Funkce pro analýzu textu pomocí Stanza a extrakci klíčových slov\n",
    "def analyze_text_with_nlp(text, synonyms_dict, stop_words):\n",
    "    doc = nlp(preprocess_text(text.lower()))\n",
    "    keywords = []\n",
    "    for sentence in doc.sentences:\n",
    "        for word in sentence.words:\n",
    "            if word.text.isalpha() and word.text not in stop_words:\n",
    "                keyword = synonyms_dict.get(word.text, word.text)\n",
    "                keywords.append(keyword)\n",
    "    return ' '.join(sorted(set(keywords)))\n",
    "\n",
    "# Načtení datového souboru\n",
    "df = pd.read_excel('NAPO_VSE_nlp.xlsx', sheet_name='Sheet1')\n",
    "\n",
    "# Doplnění prázdných hodnot ve sloupci 'co_na_ceskem_zdravotnictvi_ocenujete_klic_slova'\n",
    "df['co_na_ceskem_zdravotnictvi_ocenujete_klic_slova'] = df.apply(\n",
    "    lambda row: analyze_text_with_nlp(row['co_na_ceskem_zdravotnictvi_ocenujete?'], synonyms_dict, czech_stop_words)\n",
    "    if pd.isna(row['co_na_ceskem_zdravotnictvi_ocenujete_klic_slova']) or row['co_na_ceskem_zdravotnictvi_ocenujete_klic_slova'].strip() == ''\n",
    "    else row['co_na_ceskem_zdravotnictvi_ocenujete_klic_slova'],\n",
    "    axis=1\n",
    ")\n",
    "\n",
    "# Počítání frekvence kategorií\n",
    "all_categories = [cat for sublist in df['co_na_ceskem_zdravotnictvi_ocenujete_klic_slova'].str.split() for cat in sublist if cat]\n",
    "category_freq = Counter(all_categories)\n",
    "\n",
    "# Vytvoření DataFrame z frekvencí kategorií\n",
    "category_freq_df = pd.DataFrame(category_freq.items(), columns=['category', 'frequency']).sort_values(by='frequency', ascending=False)\n",
    "\n",
    "# Zobrazení nejčastějších kategorií\n",
    "print(category_freq_df.head(20))\n",
    "\n",
    "# Vizualizace - sloupcový graf\n",
    "plt.figure(figsize=(12, 6))\n",
    "category_freq_df.head(20).plot(kind='bar', x='category', y='frequency', legend=False)\n",
    "plt.title('Nejčastější kategorie v odpovědích')\n",
    "plt.xlabel('Kategorie')\n",
    "plt.ylabel('Frekvence')\n",
    "plt.xticks(rotation=45)\n",
    "plt.show()\n",
    "\n",
    "# Uložení výsledků do Excelu s novým sloupcem\n",
    "output_file_path = 'NAPO_VSE_nlp_updated.xlsx'\n",
    "with pd.ExcelWriter(output_file_path, engine='openpyxl', mode='w') as writer:\n",
    "    df.to_excel(writer, sheet_name='Sheet1', index=False)\n",
    "\n",
    "print(f\"Výsledky byly uloženy do souboru '{output_file_path}'.\")"
   ]
  }
 ],
 "metadata": {
  "kernelspec": {
   "display_name": "Python 3",
   "language": "python",
   "name": "python3"
  },
  "language_info": {
   "codemirror_mode": {
    "name": "ipython",
    "version": 3
   },
   "file_extension": ".py",
   "mimetype": "text/x-python",
   "name": "python",
   "nbconvert_exporter": "python",
   "pygments_lexer": "ipython3",
   "version": "3.11.5"
  }
 },
 "nbformat": 4,
 "nbformat_minor": 2
}
