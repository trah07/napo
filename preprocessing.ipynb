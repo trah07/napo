{
 "cells": [
  {
   "cell_type": "markdown",
   "metadata": {},
   "source": [
    "## PŘÍPRAVA DAT (PREPROCESSING)"
   ]
  },
  {
   "cell_type": "code",
   "execution_count": 13,
   "metadata": {},
   "outputs": [
    {
     "name": "stderr",
     "output_type": "stream",
     "text": [
      "C:\\Users\\Hoang\\AppData\\Local\\Temp\\ipykernel_7384\\3932291866.py:36: FutureWarning: DataFrame.applymap has been deprecated. Use DataFrame.map instead.\n",
      "  df = df.applymap(normalize_text)\n"
     ]
    },
    {
     "name": "stdout",
     "output_type": "stream",
     "text": [
      "  id_respondenta pohlavi vek vekova_kategorie  \\\n",
      "0    025y2-0ce-1    zena  39        35-44_let   \n",
      "1    032y2-0ce-1    zena  42        35-44_let   \n",
      "2    04gy2-0ce-1     muz  60        55-64_let   \n",
      "3    05l03-0ce-1    zena  56        55-64_let   \n",
      "4    06vx2-0ce-1     muz  73    65_a_vice_let   \n",
      "\n",
      "                   nejvyssi_dokoncene_vzdelani  vzdelani_\\n(rekod)  \\\n",
      "0      vyssi_odborne,_vysokoskolske_bakalarske              vs/vos   \n",
      "1  stredoskolske_s_maturitou_(vcetne_nastavby)      ss_s_maturitou   \n",
      "2            vysokoskolske_magisterske_a_vyssi              vs/vos   \n",
      "3                       vyucen(a)_bez_maturity  zs/ss_bez_maturity   \n",
      "4  stredoskolske_s_maturitou_(vcetne_nastavby)      ss_s_maturitou   \n",
      "\n",
      "               kraj jakou_znamkou_byste_ohodnotil(a)_ceske_zdravotnictvi?  \\\n",
      "0  stredocesky_kraj                                                  2      \n",
      "1  stredocesky_kraj                                                  3      \n",
      "2      ustecky_kraj                                                  3      \n",
      "3  stredocesky_kraj                                                  2      \n",
      "4             praha                                                  2      \n",
      "\n",
      "               co_na_ceskem_zdravotnictvi_ocenujete?  \\\n",
      "0                                         preciznost   \n",
      "1                                 kvalitni_odborniky   \n",
      "2                                         dostupnost   \n",
      "3     mame_hodne_vybornych_lekaru,_kvalitni_vybaveni   \n",
      "4  ze_ma_mnoho_lekaru,_sester_a_dalsich_pracovnik...   \n",
      "\n",
      "  co_byste_si_naopak_pral(a)_na_ceskem_zdravotnictvi_vylepsit?_  ...  \\\n",
      "0                           kratsi_objednaci_terminy             ...   \n",
      "1                                    dostupnost_pece             ...   \n",
      "2                                             sluzby             ...   \n",
      "3           zkratit_cekaci_doby_na_odborna_vysetreni             ...   \n",
      "4  moznost_vyberu_obvodniho_lekare_z_vetsi_nabidk...             ...   \n",
      "\n",
      "  politickereseni_prodlouzeni_cekaci_doby_na_neakutni_vysetreni_a_osetreni  \\\n",
      "0                                 zcela_neprijatelne                         \n",
      "1                                   spise_prijatelne                         \n",
      "2                                 spise_neprijatelne                         \n",
      "3                                 spise_neprijatelne                         \n",
      "4                                 zcela_neprijatelne                         \n",
      "\n",
      "  politickereseni_mene_husta_sit_ordinaci_a_nemocnic_a_vetsi_vzdalenost_dojizdeni  \\\n",
      "0                                   spise_prijatelne                                \n",
      "1                                 spise_neprijatelne                                \n",
      "2                                 spise_neprijatelne                                \n",
      "3                                 spise_neprijatelne                                \n",
      "4                                 spise_neprijatelne                                \n",
      "\n",
      "  politickereseni_moznost_vyberu_mezi_ruznymi_nabidkami_zdravotnich_pojistoven_za_ruzne_nastavene_pojistne  \\\n",
      "0                                 spise_neprijatelne                                                         \n",
      "1                                   spise_prijatelne                                                         \n",
      "2                                 spise_neprijatelne                                                         \n",
      "3                                   spise_prijatelne                                                         \n",
      "4                                   spise_prijatelne                                                         \n",
      "\n",
      "  politickereseni_financne_by_melo_byt_zvyhodneno_chovani_ohleduplne_k_vlastnimu_zdravi  \\\n",
      "0                                   spise_prijatelne                                      \n",
      "1                                   zcela_prijatelne                                      \n",
      "2                                 spise_neprijatelne                                      \n",
      "3                                 spise_neprijatelne                                      \n",
      "4                                   spise_prijatelne                                      \n",
      "\n",
      "  lecite_se_dlouhodobe_s_nejakym_onemocnenim?_  \\\n",
      "0                                          ano   \n",
      "1                                           ne   \n",
      "2                                          ano   \n",
      "3                                          ano   \n",
      "4                                          ano   \n",
      "\n",
      "  pecujete_o_blizkou_osobu_s_chronickym_onemocnenim?  \\\n",
      "0                                                 ne   \n",
      "1                                                ano   \n",
      "2                                                 ne   \n",
      "3                                                 ne   \n",
      "4                                                 ne   \n",
      "\n",
      "            volbastrany_odpoved jake_je_vase_ekonomicke_postaveni?  \\\n",
      "0  stacilo!_(kscm,_sd-sn,_csns)          soukromy/a_podnikatel(ka)   \n",
      "1            nevim/nechci_uvest            v_zamestnaneckem_pomeru   \n",
      "2  stacilo!_(kscm,_sd-sn,_csns)            v_zamestnaneckem_pomeru   \n",
      "3                           ano          nepracujici_duchodce/kyne   \n",
      "4                        pirati          nepracujici_duchodce/kyne   \n",
      "\n",
      "  jaky_je_cisty_mesicni_prijem_vasi_domacnosti? neprojekcni_vaha_  \n",
      "0                         50_000_kc_-_74_999_kc      1.0290260572  \n",
      "1                         20_000_kc_-_49_999_kc      0.9935797558  \n",
      "2                             odmitam_odpovedet      1.0740696046  \n",
      "3                                  do_19_999_kc       0.968156977  \n",
      "4                         50_000_kc_-_74_999_kc      0.9648801832  \n",
      "\n",
      "[5 rows x 89 columns]\n",
      "Předzpracovaná data byla uložena do 'NAPO_VSE_preprocessed.xlsx'\n"
     ]
    }
   ],
   "source": [
    "import pandas as pd\n",
    "from unidecode import unidecode\n",
    "from sklearn.preprocessing import StandardScaler\n",
    "import unicodedata\n",
    "import re\n",
    "\n",
    "# Funkce pro odstranění diakritiky\n",
    "def remove_diacritics(text):\n",
    "    return unidecode(text)\n",
    "\n",
    "# Funkce pro úpravu názvů sloupců\n",
    "def fix_column_names(df):\n",
    "    df.columns = [unidecode(col).replace(' ', '_').lower() for col in df.columns]\n",
    "    return df\n",
    "\n",
    "# Načtení datového souboru\n",
    "file_path = 'NAPO_VSE_oprava.xlsx'\n",
    "df = pd.read_excel(file_path, sheet_name='Labels')\n",
    "\n",
    "# Úprava názvů sloupců\n",
    "df = fix_column_names(df)\n",
    "\n",
    "# Převedení numerických hodnot na int a float\n",
    "df = df.convert_dtypes()\n",
    "\n",
    "# Funkce pro normalizaci textu v buňkách\n",
    "def normalize_text(text):\n",
    "    if pd.isna(text):\n",
    "        return text\n",
    "    # Odstranění diakritiky, převod na malá písmena, nahrazení whitespace za \"_\"\n",
    "    text = ''.join(c for c in unicodedata.normalize('NFD', str(text)) if unicodedata.category(c) != 'Mn')\n",
    "    text = text.replace(' ', '_').lower()\n",
    "    return text\n",
    "\n",
    "# Aplikace normalizace textu na všechny buňky v DataFrame\n",
    "df = df.applymap(normalize_text)\n",
    "\n",
    "# Zobrazení prvních několika řádků pro ověření\n",
    "print(df.head())\n",
    "\n",
    "# Úložení předzpracovaných dat do nového excelu\n",
    "df.to_excel('NAPO_VSE_preprocessed.xlsx', index=False)\n",
    "\n",
    "print(\"Předzpracovaná data byla uložena do 'NAPO_VSE_preprocessed.xlsx'\")"
   ]
  },
  {
   "cell_type": "markdown",
   "metadata": {},
   "source": [
    "### Kategorizace otázky Jaký je čistý měsíční příjem Vaší domácnosti?"
   ]
  },
  {
   "cell_type": "code",
   "execution_count": 14,
   "metadata": {},
   "outputs": [
    {
     "name": "stdout",
     "output_type": "stream",
     "text": [
      "  jaky_je_cisty_mesicni_prijem_vasi_domacnosti? prijem_kategorie\n",
      "0                         50_000_kc_-_74_999_kc   stredni_prijem\n",
      "1                         20_000_kc_-_49_999_kc   stredni_prijem\n",
      "2                             odmitam_odpovedet         neurceno\n",
      "3                                  do_19_999_kc     nizky_prijem\n",
      "4                         50_000_kc_-_74_999_kc   stredni_prijem\n"
     ]
    }
   ],
   "source": [
    "# Funkce pro kategorizaci příjmu\n",
    "def categorize_income(income):\n",
    "    if income in ['do_19_999_kc']:\n",
    "        return 'nizky_prijem'\n",
    "    elif income in ['20_000_kc_-_49_999_kc', '50_000_kc_-_74_999_kc']:\n",
    "        return 'stredni_prijem'\n",
    "    elif income in ['75_000_kc_-_99_999_kc', '100_000_kc_-_149_000_kc', '150_000_kc_a_vice']:\n",
    "        return 'vysoky_prijem'\n",
    "    elif income in ['odmitam_odpovedet', 'nevim']:\n",
    "        return 'neurceno'\n",
    "    else:\n",
    "        return 'n'\n",
    "\n",
    "# Aplikace funkce na sloupec a vytvoření nové kategorie\n",
    "df['prijem_kategorie'] = df['jaky_je_cisty_mesicni_prijem_vasi_domacnosti?'].apply(categorize_income)\n",
    "\n",
    "# Zobrazení prvních několika řádků pro ověření\n",
    "print(df[['jaky_je_cisty_mesicni_prijem_vasi_domacnosti?', 'prijem_kategorie']].head())\n"
   ]
  },
  {
   "cell_type": "markdown",
   "metadata": {},
   "source": [
    "### Oprava odpovědí k otázce Jakou známkou byste ohodnotil/a české zdravotnictví?"
   ]
  },
  {
   "cell_type": "code",
   "execution_count": 15,
   "metadata": {},
   "outputs": [
    {
     "name": "stdout",
     "output_type": "stream",
     "text": [
      "Data s opravou hodnocení byla uložena do 'NAPO_VSE_preprocessed.xlsx'\n"
     ]
    }
   ],
   "source": [
    "# Funkce pro převod textových hodnot hodnocení na integer podle první číslice\n",
    "def convert_rating_to_int(value):\n",
    "    if pd.isna(value):\n",
    "        return value\n",
    "    match = re.match(r'(\\d)_', value)\n",
    "    if match:\n",
    "        return int(match.group(1))\n",
    "    else:\n",
    "        try:\n",
    "            return int(value)\n",
    "        except ValueError:\n",
    "            return pd.NA\n",
    "\n",
    "# Seznam sloupců pro konverzi\n",
    "columns_to_convert = [\n",
    "    'jakou_znamkou_byste_ohodnotil(a)_ceske_zdravotnictvi?',\n",
    "    'hodnoceni_zdravotni_pojistovny',\n",
    "    'hodnoceni_zdravotnicka_zarizeni_/_lekari',\n",
    "    'hodnoceni_ministerstvo_zdravotnictvi',\n",
    "    'hodnoceni_nemocnice', \n",
    "    'hodnoceni_prakticky_lekar',\n",
    "    'hodnoceni_ambulantni_specialiste'\n",
    "]\n",
    "\n",
    "# Aplikace konverze na vybrané sloupce\n",
    "for col in columns_to_convert:\n",
    "    df[col] = df[col].apply(convert_rating_to_int)\n",
    "\n",
    "# Převedení numerických hodnot na int a float\n",
    "df = df.convert_dtypes()\n",
    "\n",
    "# Uložení upravených dat do nového Excel souboru\n",
    "df.to_excel('NAPO_VSE_preprocessed.xlsx', index=False)\n",
    "\n",
    "print(\"Data s opravou hodnocení byla uložena do 'NAPO_VSE_preprocessed.xlsx'\")"
   ]
  }
 ],
 "metadata": {
  "kernelspec": {
   "display_name": "Python 3",
   "language": "python",
   "name": "python3"
  },
  "language_info": {
   "codemirror_mode": {
    "name": "ipython",
    "version": 3
   },
   "file_extension": ".py",
   "mimetype": "text/x-python",
   "name": "python",
   "nbconvert_exporter": "python",
   "pygments_lexer": "ipython3",
   "version": "3.12.6"
  }
 },
 "nbformat": 4,
 "nbformat_minor": 2
}
